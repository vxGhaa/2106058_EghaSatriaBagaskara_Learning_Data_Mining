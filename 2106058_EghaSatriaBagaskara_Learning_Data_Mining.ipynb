{
  "nbformat": 4,
  "nbformat_minor": 0,
  "metadata": {
    "colab": {
      "provenance": []
    },
    "kernelspec": {
      "name": "python3",
      "display_name": "Python 3"
    },
    "language_info": {
      "name": "python"
    }
  },
  "cells": [
    {
      "cell_type": "code",
      "execution_count": 1,
      "metadata": {
        "colab": {
          "base_uri": "https://localhost:8080/"
        },
        "id": "pbo-9ow_Q_jB",
        "outputId": "b0601cd3-2c1c-4386-f411-47b05e4eb5c4"
      },
      "outputs": [
        {
          "output_type": "stream",
          "name": "stdout",
          "text": [
            "  Regional Variant iPhone Model Condition Current iOS  \\\n",
            "0               EU       13 Pro       New        16.3   \n",
            "1               EU       14 Pro       New      16.3.1   \n",
            "2              USA       14 Pro       New      16.3.1   \n",
            "3              USA       Xs Max       New      16.3.1   \n",
            "4              USA       8 Plus      Used      16.3.1   \n",
            "\n",
            "  Battery issue on iOS update Display issue on iOS update  Noticeable Device  \\\n",
            "0                         Yes                          No                Yes   \n",
            "1                          No                          No                 No   \n",
            "2                          No                          No                 No   \n",
            "3                         Yes                          No                Yes   \n",
            "4                         Yes                          No                 No   \n",
            "\n",
            "   Battery health  Current Battery health Apple Charger  ...  Unnamed: 53  \\\n",
            "0           100.0                    99.0      Original  ...          NaN   \n",
            "1           100.0                   100.0           NaN  ...          NaN   \n",
            "2           100.0                   100.0           NaN  ...          NaN   \n",
            "3           100.0                    86.0           NaN  ...          NaN   \n",
            "4            93.0                    80.0      Original  ...          NaN   \n",
            "\n",
            "   Unnamed: 54  Unnamed: 55  Unnamed: 56  Unnamed: 57  Unnamed: 58  \\\n",
            "0          NaN          NaN          NaN          NaN          NaN   \n",
            "1          NaN          NaN          NaN          NaN          NaN   \n",
            "2          NaN          NaN          NaN          NaN          NaN   \n",
            "3          NaN          NaN          NaN          NaN          NaN   \n",
            "4          NaN          NaN          NaN          NaN          NaN   \n",
            "\n",
            "   Unnamed: 59  Unnamed: 60  Unnamed: 61  Unnamed: 62  \n",
            "0          NaN          NaN          NaN          NaN  \n",
            "1          NaN          NaN          NaN          NaN  \n",
            "2          NaN          NaN          NaN          NaN  \n",
            "3          NaN          NaN          NaN          NaN  \n",
            "4          NaN          NaN          NaN          NaN  \n",
            "\n",
            "[5 rows x 63 columns]\n"
          ]
        }
      ],
      "source": [
        "import pandas as pd\n",
        "\n",
        "#import dataset\n",
        "dataset = pd.read_csv('iPhoneUsersData.csv')\n",
        "\n",
        "#Tampilkan 5 baris pertama dari dataset\n",
        "print (dataset.head())"
      ]
    },
    {
      "cell_type": "code",
      "source": [
        "#cek jumlah missing values pada kolom\n",
        "print(dataset['Battery issue on iOS update'].isna().sum())\n",
        "\n",
        "# mengganti missing values pada kolom dengan nilai baru\n",
        "dataset ['Battery issue on iOS update'].fillna('Yes', inplace=True)\n",
        "\n",
        "# cek kembali jumlah missing values pada kolom\n",
        "print(dataset['Battery issue on iOS update'].isna().sum())"
      ],
      "metadata": {
        "id": "VsjxlOuCRTF1",
        "colab": {
          "base_uri": "https://localhost:8080/"
        },
        "outputId": "428cbc6e-3088-4771-ebea-2e156e5bff95"
      },
      "execution_count": 2,
      "outputs": [
        {
          "output_type": "stream",
          "name": "stdout",
          "text": [
            "29\n",
            "0\n"
          ]
        }
      ]
    },
    {
      "cell_type": "code",
      "source": [
        "#  cek jumlah missing values pada kolom\n",
        "print(dataset['Apple Charger'].isna().sum())\n",
        "\n",
        "# mengganti missing values pada kolom dengan nilai baru\n",
        "dataset ['Apple Charger'].fillna('Original', inplace=True)\n",
        "\n",
        "# cek kembali jumlah missing values pada kolom\n",
        "print(dataset['Apple Charger'].isna().sum())"
      ],
      "metadata": {
        "id": "86TiNMRnRwd9",
        "colab": {
          "base_uri": "https://localhost:8080/"
        },
        "outputId": "70f077e4-bace-4e2b-be02-c4d7827bdbff"
      },
      "execution_count": 5,
      "outputs": [
        {
          "output_type": "stream",
          "name": "stdout",
          "text": [
            "0\n",
            "0\n"
          ]
        }
      ]
    },
    {
      "cell_type": "code",
      "source": [
        "#  cek jumlah missing values pada kolom\n",
        "print(dataset[' Noticeable Device'].isna().sum())\n",
        "\n",
        "# mengganti missing values pada kolom dengan nilai baru\n",
        "dataset [' Noticeable Device'].fillna('Yes', inplace=True)\n",
        "\n",
        "# cek kembali jumlah missing values pada kolom\n",
        "print(dataset[' Noticeable Device'].isna().sum())"
      ],
      "metadata": {
        "id": "RtFYbwUkSHBl",
        "colab": {
          "base_uri": "https://localhost:8080/"
        },
        "outputId": "eb1014a7-25bc-4c06-c9f2-4df22c017e11"
      },
      "execution_count": 4,
      "outputs": [
        {
          "output_type": "stream",
          "name": "stdout",
          "text": [
            "27\n",
            "0\n"
          ]
        }
      ]
    },
    {
      "cell_type": "code",
      "source": [
        "# Ubah nilai yang tidak konsisten pada atribut\n",
        "dataset['Condition'].replace(['70'], ['New'], inplace=True)\n",
        "\n",
        "# Tampilkan hasil perubahan\n",
        "print(dataset['Condition'].value_counts())"
      ],
      "metadata": {
        "id": "0VSIYT56SfHO",
        "colab": {
          "base_uri": "https://localhost:8080/"
        },
        "outputId": "3c2323a2-6607-4e95-945b-71d7d7b64f6c"
      },
      "execution_count": 6,
      "outputs": [
        {
          "output_type": "stream",
          "name": "stdout",
          "text": [
            "New                  15\n",
            "Used                  4\n",
            "Regional Variant,     1\n",
            "Name: Condition, dtype: int64\n"
          ]
        }
      ]
    }
  ]
}